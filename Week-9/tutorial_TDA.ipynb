{
 "cells": [
  {
   "cell_type": "markdown",
   "metadata": {},
   "source": [
    "# A Hands-On Introduction to the Persistent Homology Pipeline \n",
    "\n",
    "#### Author: Siddharth Setlur "
   ]
  },
  {
   "cell_type": "markdown",
   "metadata": {},
   "source": [
    "Let's start with a toy example. Given a bunch of points sampled uniformly from a circle with some noise, let's construct a Vietoris-Rips complex and then compute the persistence diagram using Gudhi. The first thing we need to do is to install Gudhi (a TDA package to compute persistence among other things). We're going to crete a new conda environment with the required packages. To do this run \n",
    "\n",
    "```conda env create -f requirements.yml```\n",
    "\n",
    "and then activate it using\n",
    "\n",
    "``` conda activate tda-env```\n",
    "\n",
    "Some machines seemed to have trouble installing gudhi from the .yml file. If you run into such an error, you could try editing the .yml file to remove gudhi, then create and activate the environment as above, and finally install gudhi manually into the environment using\n",
    "\n",
    "```conda install -c conda-forge gudhi```\n"
   ]
  },
  {
   "cell_type": "code",
   "execution_count": null,
   "metadata": {},
   "outputs": [],
   "source": [
    "import gudhi as gd\n",
    "from matplotlib import pyplot as plt\n",
    "import numpy as np\n",
    "from scipy.spatial import distance_matrix\n",
    "import sys\n",
    "from helper_functions.noisy_circle import sample_from_circle, sample_from_noisy_circle, plot_density\n",
    "from helper_functions.density import KDE\n"
   ]
  },
  {
   "cell_type": "markdown",
   "metadata": {},
   "source": [
    "Let's sample some points from a circle of radius $1$ using the helper function sample_from_circle"
   ]
  },
  {
   "cell_type": "code",
   "execution_count": null,
   "metadata": {},
   "outputs": [],
   "source": [
    "num_points = 100\n",
    "seed = 3\n",
    "radius = 1\n",
    "X = sample_from_circle(num_points=num_points, radius=radius, seed=seed)\n",
    "plt.figure()\n",
    "plt.scatter(X[:,0], X[:,1])\n",
    "plt.show()"
   ]
  },
  {
   "cell_type": "markdown",
   "metadata": {},
   "source": [
    "Recall from the lecture that the first step in the persistence pipeline is to construct a filtered simplicial complex and that we often do this using a Vietoris-Rips (VR) complex. Gudhi has an inbuilt method to do this!\n",
    "\n",
    "The max_edge_length just says that we don't consider VR complexes constructed using balls larger than this radius in our filtration. Note that in our case, the complex becomes trivial when we use balls of radius greater than the diameter of the circle, since we would fill in the entire circle then. In practice, when one works with larger datasets, this parameter becomes important because this restricts the size of our complexes (without this we might get complexes with millions of simplices and computation would become infeasible.)"
   ]
  },
  {
   "cell_type": "code",
   "execution_count": null,
   "metadata": {},
   "outputs": [],
   "source": [
    "\n",
    "rips_comp = gd.RipsComplex(points=X, max_edge_length=2.0)\n"
   ]
  },
  {
   "cell_type": "markdown",
   "metadata": {},
   "source": [
    "Gudhi uses a data structure called a simplex tree that makes computing persistence easier. The max dimension parameter tells us that that we only want to consider simplices upto this dimension. In our case, since the circular feature would be captured by $1$-dimensional homology, we only need simplices upto dimension $2$. \n",
    "\n",
    "We can then simply call the persistence function on the simplex tree to obtain all the information in a persistence diagram"
   ]
  },
  {
   "cell_type": "code",
   "execution_count": null,
   "metadata": {},
   "outputs": [],
   "source": [
    "simplex_tree = rips_comp.create_simplex_tree(max_dimension=2)\n",
    "pers = simplex_tree.persistence()\n"
   ]
  },
  {
   "cell_type": "markdown",
   "metadata": {},
   "source": [
    "Let's visualize the evolution of the Rips complex using an animation. Note that computing these visualizations is computationally intensive since we need to iterate over all the simplices in the complex, so we can only do this for data with fewer points. "
   ]
  },
  {
   "cell_type": "code",
   "execution_count": null,
   "metadata": {},
   "outputs": [],
   "source": [
    "visualization_X =  #FINISH ME - SAMPLE A CIRCLE OF RADIUS 1 WITH 50 POINTS\n",
    "rips_comp_visual =  ## FINISH ME\n",
    "simplex_tree_vis =   ## FINISH ME\n",
    "VR_visualization = simplex_tree_vis.copy() #create a copy of the simplex tree, to work with\n",
    "VR_visualization.prune_above_filtration(0.7) # we can get all simplices born before time 0.7 using this method. \n",
    "from IPython.display import display, clear_output\n",
    "import time\n",
    "\n",
    "filtration_values = np.linspace(0.0,1.5,20) # we are interested in sampling 20 equidistant filtration values between 0.0 and 1.5\n",
    "plt.figure(figsize=(10, 10))\n",
    "for i, filtration in enumerate(filtration_values):\n",
    "    plt.clf()  # Clear the figure\n",
    "    plt.scatter(visualization_X[:,0], visualization_X[:,1], c='blue', s=20)\n",
    "    plt.title(f'Vietoris-Rips Complex, Filtration Value: {filtration:.2f}')\n",
    "    \n",
    "    # Create a copy of the simplex tree and prune\n",
    "    VR_visualization = simplex_tree_vis.copy()\n",
    "    VR_visualization.prune_above_filtration(filtration)\n",
    "    num_simplices = VR_visualization.num_simplices()\n",
    "    \n",
    "    # Plot edges and triangles\n",
    "    for simplex in VR_visualization.get_simplices():\n",
    "        if len(simplex[0]) == 2: #grab the 1 simplices, i.e. edges \n",
    "            indices = [simplex[0][0], simplex[0][1]]\n",
    "            point1 = visualization_X[indices][0]\n",
    "            point2 = visualization_X[indices][1]\n",
    "            plt.plot([point1[0], point2[0]], [point1[1], point2[1]], 'k-', alpha=0.5)\n",
    "        if len(simplex[0]) == 3: # grab the 2 simplices, i.e. triangles.\n",
    "            indices = [simplex[0][0], simplex[0][1], simplex[0][2]]\n",
    "            point1 = visualization_X[indices][0]\n",
    "            point2 = visualization_X[indices][1]\n",
    "            point3 = visualization_X[indices][2]\n",
    "            plt.fill([point1[0], point2[0], point3[0]], [point1[1], point2[1], point3[1]], 'r', alpha=0.3)\n",
    "    \n",
    "    plt.xlim(-1.5, 1.5)\n",
    "    plt.ylim(-1.5, 1.5)\n",
    "    plt.text(-1.3, -1.3, f\"Filtration: {filtration:.2f}\\nSimplices: {num_simplices}\", \n",
    "             bbox=dict(facecolor='white', alpha=0.7))\n",
    "    \n",
    "    display(plt.gcf())\n",
    "    clear_output(wait=True)\n",
    "    time.sleep(0.5)  # Add delay between frames\n",
    "    \n",
    "# Display final state\n",
    "plt.clf()\n",
    "plt.scatter(visualization_X[:,0], visualization_X[:,1], c='blue', s=20)\n",
    "plt.title(f'Vietoris-Rips Complex, Filtration Value: {filtration_values[-1]:.2f}')\n",
    "VR_visualization = simplex_tree_vis.copy()\n",
    "VR_visualization.prune_above_filtration(filtration_values[-1])\n",
    "num_simplices = VR_visualization.num_simplices()\n",
    "\n",
    "for simplex in VR_visualization.get_simplices():\n",
    "    if len(simplex[0]) == 2:\n",
    "        indices = [simplex[0][0], simplex[0][1]]\n",
    "        point1 = visualization_X[indices][0]\n",
    "        point2 = visualization_X[indices][1]\n",
    "        plt.plot([point1[0], point2[0]], [point1[1], point2[1]], 'k-', alpha=0.5)\n",
    "    if len(simplex[0]) == 3:\n",
    "        indices = [simplex[0][0], simplex[0][1], simplex[0][2]]\n",
    "        point1 = visualization_X[indices][0]\n",
    "        point2 = visualization_X[indices][1]\n",
    "        point3 = visualization_X[indices][2]\n",
    "        plt.fill([point1[0], point2[0], point3[0]], [point1[1], point2[1], point3[1]], 'r', alpha=0.3)\n",
    "\n",
    "plt.xlim(-1.5, 1.5)\n",
    "plt.ylim(-1.5, 1.5)\n",
    "plt.text(-1.3, -1.3, f\"Filtration: {filtration_values[-1]:.2f}\\nSimplices: {num_simplices}\", \n",
    "         bbox=dict(facecolor='white', alpha=0.7))\n",
    "\n"
   ]
  },
  {
   "cell_type": "markdown",
   "metadata": {},
   "source": [
    "Let's explore the structure of pers. Each element of pers is a tuple $(\\dim, (birth, death))$. The first entry of the tuple being the homological dimension of the feature, i.e. $0$ for $0$ dim features, $1$ for $1$ dim features, etc. The second entry of the tuple is another tuple $(birth, death)$ which has two values corresponding to the birth and death of the feature in question. "
   ]
  },
  {
   "cell_type": "code",
   "execution_count": null,
   "metadata": {},
   "outputs": [],
   "source": [
    "# display the first three elements of pers\n",
    "pers[0:3]"
   ]
  },
  {
   "cell_type": "markdown",
   "metadata": {},
   "source": [
    "Let's plot the persistence diagram for $H_1$, i.e. plot the $1$ dimensional features"
   ]
  },
  {
   "cell_type": "code",
   "execution_count": null,
   "metadata": {},
   "outputs": [],
   "source": [
    "plt.figure()\n",
    "#scatter plot the $1$-dim features - \n",
    "for feature in pers:\n",
    "    if feature[0]==1:\n",
    "        plt.scatter(##FINISH ME)\n",
    "# plot the diagonal \n",
    "plt.plot(#FINISH ME, color='red', linestyle='dashed', label=\"Diagonal\")\n",
    "# plt.text(pers[0][1][0]+0.05, pers[0][1][1]-0.08, f'({pers[0][1][0]:.2f}, {pers[0][1][1]:.2f})', ha='left', va='bottom')\n",
    "plt.xlabel('Birth')\n",
    "plt.ylabel('Death')\n",
    "plt.legend()\n",
    "plt.savefig(\"persistence_diagram_density.jpg\")"
   ]
  },
  {
   "cell_type": "markdown",
   "metadata": {},
   "source": [
    "Let's define a function that implements the entire TDA pipeline, i.e. given a point cloud and the homology dimension, the function shoud output the persistence diagram in that dimension. "
   ]
  },
  {
   "cell_type": "code",
   "execution_count": null,
   "metadata": {},
   "outputs": [],
   "source": [
    "def compute_persistence_diagram(point_cloud, homological_dimension, max_edge_length):\n",
    "    rips_comp =  ## FINISH ME - \n",
    "    simplex_tree = ## FINISH ME - \n",
    "    pers =  ## FINISH ME -\n",
    "    # Plot the persistence diagram in the given dimension - \n",
    "    plt.figure()\n",
    "    max_feature_dim = 0.0\n",
    "    ## FINISH ME \n",
    "    for feature in pers:\n",
    "        if #FINISH ME:\n",
    "            plt.scatter(##FINISH ME)\n",
    "            #The next bit just makes sure that we know where to end the diagonal line, os that the figure looks nice.\n",
    "            # LEAVE AS IS in the loop \n",
    "            if feature[1][0]+feature[1][0]>max_feature_dim:\n",
    "                max_feature_dim = feature[1][0]+feature[1][0]\n",
    "    # plot the diagonal \n",
    "    plt.plot([0, max_feature_dim], [0, max_feature_dim], color='red', linestyle='dashed', label=\"Diagonal\")\n",
    "    plt.xlabel('Birth')\n",
    "    plt.ylabel('Death')\n",
    "    plt.legend()\n",
    "    plt.show()"
   ]
  },
  {
   "cell_type": "markdown",
   "metadata": {},
   "source": [
    "Sometimes functions don't work as expected, so just as a sanity check recompute the persistence diagram for the noisy circle (the variable X) using the function we just wrote and compare it to the result we had earlier"
   ]
  },
  {
   "cell_type": "code",
   "execution_count": null,
   "metadata": {},
   "outputs": [],
   "source": [
    "compute_persistence_diagram(#FINISH ME)"
   ]
  },
  {
   "cell_type": "markdown",
   "metadata": {},
   "source": [
    "What do you expect to happen if we sample from a radius of larger circle, e.g. 5? What about the wedge product of two circles?"
   ]
  },
  {
   "cell_type": "code",
   "execution_count": null,
   "metadata": {},
   "outputs": [],
   "source": [
    "#Generate a circle with 200 points of radius 1\n",
    "circ1 = #FINISH ME \n",
    "# generate a second similar circle that's translated by the appproriate amount. Hint - if you have a 2D array X, you can translate it by (a,b) by simply adding np.array([a,b])\n",
    "circ2 = ## FINISH ME\n",
    "#combine the two circles into a single array \n",
    "wedge = np.vstack([circ1,circ2])\n",
    "#scatter plot the result to visualize \n",
    "plt.figure()\n",
    "# FINISH ME\n",
    "plt.show()\n"
   ]
  },
  {
   "cell_type": "markdown",
   "metadata": {},
   "source": [
    "Compute and interpret the 1-dimensional persistence diagram. \n",
    "\n",
    "IMPORTANT - be careful with the max_edge_length of the rips complex, you have to increase it since the dataset is spread over a larger domain. You can use np.inf to just compute all simplices (when you feed np.inf Gudhi computes everything up to radius $\\max_{x,y\\in X}\\{d(x,y)\\}$)"
   ]
  },
  {
   "cell_type": "code",
   "execution_count": null,
   "metadata": {},
   "outputs": [],
   "source": [
    "#FINISH ME"
   ]
  },
  {
   "cell_type": "markdown",
   "metadata": {},
   "source": [
    "What happens with a circle of larger radius? "
   ]
  },
  {
   "cell_type": "code",
   "execution_count": null,
   "metadata": {},
   "outputs": [],
   "source": [
    "large_circle = # finish me \n",
    "compute_persistence_diagram(large_circle, 1, np.inf)"
   ]
  },
  {
   "cell_type": "markdown",
   "metadata": {},
   "source": [
    "Single parameter persistence is stable but not robust! Let's try and see this. What happens to the VR filtration and consequently to the persistence diagram if we add a few noisy points (that are still relatively sparse) to the circle? Can $1$-persistence still discern the signal?\n",
    "\n",
    "The function sample_from_noisy_circle samples most $80\\%$ of its points from the circle and the remaining unifomly distributed. We plot the points and color them using a Gaussian density estimator, this colors points in neighborhoods of high density a darker color and the low density neighborhods a brighter color (the intuition behind this is explained below). The dark color points should be interpreted as the signal, and as we can see we still have the circle as the primary feature."
   ]
  },
  {
   "cell_type": "code",
   "execution_count": null,
   "metadata": {},
   "outputs": [],
   "source": [
    "\n",
    "noisy_circle = sample_from_noisy_circle(num_points=500, noise=0.25,radius=1.0, seed=3)\n",
    "density = np.exp(-1*KDE(bandwidth=0.2).fit(noisy_circle).score_samples(noisy_circle))\n",
    "# a bit of renormalization\n",
    "density -= density.min()\n",
    "density /= density.max()\n",
    "\n",
    "plt.scatter(noisy_circle[:,0], noisy_circle[:,1], s=5, c=density, cmap=\"plasma\")\n",
    "plt.gca().set_aspect(1); plt.colorbar();"
   ]
  },
  {
   "cell_type": "code",
   "execution_count": null,
   "metadata": {},
   "outputs": [],
   "source": [
    "#compute the persistence diagram\n",
    "#FINISH ME"
   ]
  },
  {
   "cell_type": "markdown",
   "metadata": {},
   "source": [
    "Can you remove the noisy points using an appropriate value for the density to recover the signal?"
   ]
  },
  {
   "cell_type": "code",
   "execution_count": null,
   "metadata": {},
   "outputs": [],
   "source": [
    "threshold = # FINISH ME\n",
    "idx = density<threshold # indices where the density value is below the threshold\n",
    "circle_noise_removed = #FINISH ME \n",
    "plt.scatter(circle_noise_removed[:,0], circle_noise_removed[:,1], s=5, c=density[idx], cmap=\"plasma\")\n",
    "plt.gca().set_aspect(1); plt.colorbar();\n"
   ]
  },
  {
   "cell_type": "markdown",
   "metadata": {},
   "source": [
    "Of course in his case, one can visually see that if we just take out the points with value higher than approx $0.9$ we'd recover the signal, but in practice this isn't possible due to dataset size and complexity.\n",
    "So, is all hope lost? Fortunately not! We can use multiparamter persistence. In this case we can use a density-Rips bifiltration - this just mans that instead of filtering along a single parameter (radius) as we have been doing thus far, we add a second parameter, the density estimate. In general, let $X\\subset\\mathbb{R}^n$ be a finite metric space and $\\gamma: X \\to \\mathbb{R}$ be a function. For example, $\\gamma$ could be the density function above, whose value is high in dense regions of the data and low near sparse regions of the data.  The function-Rips bifiltration is given by \n",
    "$$\n",
    "\\textbf{VR}_\\gamma(X, a,r) = \\textbf{VR}(\\gamma^{-1}[a,\\infty),r)\n",
    "$$\n",
    "where $\\textbf{VR}_\\gamma(X, a,r)$ denotes the simplicial complex at function value $a$ and VR radius $r$ $(a,r)$. This is simply the VR complex on the points whose $\\gamma$-value is higher than $a$ at radius $r$. Inutively, we want points of higher density to appear first so that they spend a longer time in the filtration than lower density point (which are likely noise), so we use a codensity function, whose values are low in regions of high density and high in regions of low density. This means that we need to wait for a much higher value of $a$ until points of low density show up in the filtration."
   ]
  },
  {
   "cell_type": "markdown",
   "metadata": {},
   "source": []
  }
 ],
 "metadata": {
  "kernelspec": {
   "display_name": "gudhibase",
   "language": "python",
   "name": "python3"
  },
  "language_info": {
   "codemirror_mode": {
    "name": "ipython",
    "version": 3
   },
   "file_extension": ".py",
   "mimetype": "text/x-python",
   "name": "python",
   "nbconvert_exporter": "python",
   "pygments_lexer": "ipython3",
   "version": "3.9.16"
  }
 },
 "nbformat": 4,
 "nbformat_minor": 2
}
